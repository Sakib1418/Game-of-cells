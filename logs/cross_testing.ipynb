{
 "cells": [
  {
   "cell_type": "code",
   "execution_count": 52,
   "metadata": {},
   "outputs": [],
   "source": [
    "import pandas as pd\n",
    "import numpy as np\n",
    "\n",
    "import matplotlib\n",
    "from matplotlib import pyplot as plt\n",
    "from numpy import load\n",
    "\n",
    "# name = './log_50timesteps_prev_reward_1M/evaluations.npz'\n",
    "# name = './log_no_noise_hist_50timesteps_300k/evaluations.npz'\n",
    "# name = './log_with_noise_hist_50timesteps_300k/evaluations.npz'\n",
    "# name = './logs/log_PPO_3M/evaluations.npz'\n",
    "# name = './strategy_natex10_regen05/evaluations.npz'\n",
    "# name = './strategy_regen05/evaluations.npz'\n",
    "\n",
    "# name = './strategy_ex100_conv45/evaluations.npz'\n",
    "# name = './strategy_conv9natex10regen05ex25/evaluations.npz'\n",
    "name = './strategy_assymetric_conv9regen05exrate25/evaluations.npz'\n",
    "\n",
    "# name = './strategy_base_case_test/evaluations.npz'\n",
    "# name = './strategy_regen05_on_BaseCase/evaluations.npz'\n",
    "# name = './strategy_assym_natex10regen05/evaluations.npz'\n",
    "\n",
    "# name = './new_log_DQN_50step/evaluations.npz'\n",
    "# name = './new_log_PPO_50step/evaluations.npz'\n",
    "# name = './new_log_A2C_50step/evaluations.npz'\n",
    "\n",
    "# name = './new_log_DQN_50step/evaluations.npz'\n",
    "# name = './new_log_PPO_50step/evaluations.npz'\n",
    "# name = './new_log_A2C_50step/evaluations.npz'\n",
    "\n",
    "# name = './new_log_CNN_image_DQN_400step/evaluations.npz'\n",
    "\n",
    "# name = './new_log_MultiInput_image_DQN_50step/evaluations.npz'\n",
    "\n",
    "# name = './new_log_image_PPO_400step/evaluations.npz'\n",
    "\n",
    "# name = './new_log_image_DQN_400step/evaluations.npz'\n",
    "\n",
    "\n",
    "# names = ['./new_log_DQN_50step/evaluations.npz',\n",
    "#          './new_log_PPO_50step/evaluations.npz',\n",
    "#          './new_log_A2C_50step/evaluations.npz',\n",
    "#          './new_log_CNN_image_DQN_400step/evaluations.npz',\n",
    "#          './new_log_CNN_image_PPO_400step/evaluations.npz',\n",
    "#          './new_log_CNN_image_A2C_400step/evaluations.npz',\n",
    "#          './new_log_MultiInput_image_DQN_50step/evaluations.npz',\n",
    "#          './new_log_MultiInput_image_PPO_50step/evaluations.npz',\n",
    "#          './new_log_MultiInput_image_A2C_50step/evaluations.npz']\n",
    "\n",
    "# names = ['./logs/log_PPO_2M_final/evaluations.npz',\n",
    "#          './logs/log_PPO_ex100_conv45/evaluations.npz',\n",
    "#          './logs/log_PPO_assym_ER_20_conv_09_natex5x_regen05/evaluations.npz',\n",
    "#          './logs/log_PPO_natex5x_regen05/evaluations.npz']\n",
    "\n",
    "# names = ['./logs/log_50timesteps_prev_reward_1M/evaluations.npz',\n",
    "#              './logs/log_400timesteps_prev_rewardfactored_1M/evaluations.npz']\n",
    "\n",
    "\n",
    "# name = './cross_ex100conv45_on_basecase/evaluations.npz'\n",
    "# name = './cross_natex10regen05_on_basecase/evaluations.npz'\n",
    "name = './cross_not_assym_natex10regen05_on_basecase/evaluations.npz'\n",
    "# name = './cross_base_case/evaluations.npz'\n",
    "\n",
    "\n",
    "\n",
    "\n",
    "# name = './logs/log_400timesteps_prev_rewardfactored_1M/evaluations.npz'\n",
    "# name = './logs/log_50timesteps_prev_reward_1M/evaluations.npz'\n",
    "# name = './logs/log_PPO_2M_final/evaluations.npz'\n",
    "# name = './log_hist_50timesteps_300k/evaluations.npz'"
   ]
  },
  {
   "cell_type": "code",
   "execution_count": 53,
   "metadata": {},
   "outputs": [
    {
     "name": "stdout",
     "output_type": "stream",
     "text": [
      "cross_not_assym_natex10regen05_on_basecase\n"
     ]
    }
   ],
   "source": [
    "print(name.split('/')[1])\n",
    "data = load(name)\n",
    "\n",
    "x =  data['results']\n",
    "base_list = x[:2].flatten()"
   ]
  },
  {
   "cell_type": "code",
   "execution_count": 54,
   "metadata": {},
   "outputs": [],
   "source": [
    "mean_cross_assym_natex10regen05 =  np.mean(base_list)\n",
    "std_cross_assym_natex10regen05 = np.std(base_list)"
   ]
  },
  {
   "cell_type": "code",
   "execution_count": 56,
   "metadata": {},
   "outputs": [
    {
     "data": {
      "text/plain": [
       "22.945454545454545"
      ]
     },
     "execution_count": 56,
     "metadata": {},
     "output_type": "execute_result"
    }
   ],
   "source": [
    "mean_cross_assym_natex10regen05"
   ]
  },
  {
   "cell_type": "code",
   "execution_count": 36,
   "metadata": {},
   "outputs": [],
   "source": [
    "mean_random = [mean_base,mean_ex100conv45,mean_natex10regen05,mean_assym_natex10regen05]"
   ]
  },
  {
   "cell_type": "code",
   "execution_count": 38,
   "metadata": {},
   "outputs": [],
   "source": [
    "std_random = [std_base,std_ex100conv45,std_natex10regen05,std_assym_natex10regen05]"
   ]
  },
  {
   "cell_type": "code",
   "execution_count": 57,
   "metadata": {},
   "outputs": [],
   "source": [
    "mean_cross = [mean_cross_base,mean_cross_ex100conv45,mean_cross_natex10regen05,mean_cross_assym_natex10regen05]"
   ]
  },
  {
   "cell_type": "code",
   "execution_count": 59,
   "metadata": {},
   "outputs": [],
   "source": [
    "std_cross = [std_cross_base,std_cross_ex100conv45,std_cross_natex10regen05,std_cross_assym_natex10regen05]"
   ]
  },
  {
   "cell_type": "code",
   "execution_count": 63,
   "metadata": {},
   "outputs": [
    {
     "name": "stdout",
     "output_type": "stream",
     "text": [
      "[-47.78181818181818, -14.909090909090907, -41.01818181818181, -37.56363636363636]\n",
      "[267.51532954545456, 407.6972727272727, 86.13295454545455, 22.945454545454545]\n",
      "[10.2313082947142, 7.58388896944216, 10.47020171567588, 11.15960839385201]\n",
      "[117.43673735669411, 52.10821561419295, 63.09817359154576, 12.707361047573507]\n"
     ]
    }
   ],
   "source": [
    "print(mean_random)\n",
    "print(mean_cross)\n",
    "print(std_random)\n",
    "print(std_cross)"
   ]
  },
  {
   "cell_type": "code",
   "execution_count": 64,
   "metadata": {},
   "outputs": [],
   "source": [
    "cross_test_dict = {}\n",
    "\n",
    "cross_test_dict['mean_random'] = mean_random\n",
    "cross_test_dict['mean_cross'] = mean_cross\n",
    "cross_test_dict['std_random'] = std_random\n",
    "cross_test_dict['std_cross'] = std_cross"
   ]
  },
  {
   "cell_type": "code",
   "execution_count": 2,
   "metadata": {},
   "outputs": [
    {
     "ename": "NameError",
     "evalue": "name 'cross_test_dict' is not defined",
     "output_type": "error",
     "traceback": [
      "\u001b[1;31m---------------------------------------------------------------------------\u001b[0m",
      "\u001b[1;31mNameError\u001b[0m                                 Traceback (most recent call last)",
      "\u001b[1;32mc:\\Users\\15156\\OneDrive - Iowa State University\\Desktop\\Supplementary\\logs\\cross_testing.ipynb Cell 11\u001b[0m in \u001b[0;36m<cell line: 2>\u001b[1;34m()\u001b[0m\n\u001b[0;32m      <a href='vscode-notebook-cell:/c%3A/Users/15156/OneDrive%20-%20Iowa%20State%20University/Desktop/Supplementary/logs/cross_testing.ipynb#X13sZmlsZQ%3D%3D?line=0'>1</a>\u001b[0m \u001b[39mimport\u001b[39;00m \u001b[39mpickle\u001b[39;00m\n\u001b[0;32m      <a href='vscode-notebook-cell:/c%3A/Users/15156/OneDrive%20-%20Iowa%20State%20University/Desktop/Supplementary/logs/cross_testing.ipynb#X13sZmlsZQ%3D%3D?line=1'>2</a>\u001b[0m \u001b[39mwith\u001b[39;00m \u001b[39mopen\u001b[39m(\u001b[39m'\u001b[39m\u001b[39mcross_test_dict.pkl\u001b[39m\u001b[39m'\u001b[39m, \u001b[39m'\u001b[39m\u001b[39mwb\u001b[39m\u001b[39m'\u001b[39m) \u001b[39mas\u001b[39;00m fp:\n\u001b[1;32m----> <a href='vscode-notebook-cell:/c%3A/Users/15156/OneDrive%20-%20Iowa%20State%20University/Desktop/Supplementary/logs/cross_testing.ipynb#X13sZmlsZQ%3D%3D?line=2'>3</a>\u001b[0m     pickle\u001b[39m.\u001b[39mdump(cross_test_dict, fp)\n",
      "\u001b[1;31mNameError\u001b[0m: name 'cross_test_dict' is not defined"
     ]
    }
   ],
   "source": [
    "import pickle\n",
    "with open('cross_test_dict.pkl', 'wb') as fp:\n",
    "    pickle.dump(cross_test_dict, fp)"
   ]
  },
  {
   "cell_type": "code",
   "execution_count": 3,
   "metadata": {},
   "outputs": [],
   "source": [
    "with open('cross_testing.pkl', 'rb') as fp:\n",
    "    cross_test_dict = pickle.load(fp)"
   ]
  },
  {
   "cell_type": "code",
   "execution_count": 6,
   "metadata": {},
   "outputs": [
    {
     "data": {
      "text/plain": [
       "dict_keys(['base_case', 'ex100conv45', 'natex10regen05', 'assym'])"
      ]
     },
     "execution_count": 6,
     "metadata": {},
     "output_type": "execute_result"
    }
   ],
   "source": [
    "cross_test_dict.keys()"
   ]
  },
  {
   "cell_type": "code",
   "execution_count": 131,
   "metadata": {},
   "outputs": [
    {
     "name": "stderr",
     "output_type": "stream",
     "text": [
      "No artists with labels found to put in legend.  Note that artists whose label start with an underscore are ignored when legend() is called with no argument.\n"
     ]
    },
    {
     "data": {
      "image/png": "[encoded data removed]",
      "text/plain": [
       "<Figure size 800x500 with 1 Axes>"
      ]
     },
     "metadata": {},
     "output_type": "display_data"
    }
   ],
   "source": [
    "import matplotlib\n",
    "import matplotlib.pyplot as plt\n",
    "import numpy as np\n",
    "\n",
    "\n",
    "men_means, men_std = cross_test_dict['mean_random'], cross_test_dict['std_random']\n",
    "women_means, women_std = cross_test_dict['mean_cross'], cross_test_dict['std_cross']\n",
    "\n",
    "ind = np.arange(len(men_means))  # the x locations for the groups\n",
    "width = 0.4  # the width of the bars\n",
    "\n",
    "fig, ax = plt.subplots()\n",
    "fig.set_figheight(5)\n",
    "fig.set_figwidth(8)\n",
    "rects1 = ax.bar(ind - width/2, men_means, width, edgecolor = 'k', facecolor = '#b2beb5', yerr=men_std, capsize =6, linewidth =3)\n",
    "rects2 = ax.bar(ind + width/2, women_means, width, edgecolor = 'k',facecolor = 'w',yerr=women_std,  capsize =6, linewidth =3)\n",
    "\n",
    "# Add some text for labels, title and custom x-axis tick labels, etc.\n",
    "# ax.set_ylabel('Scores')\n",
    "# ax.set_title('Scores by group and gender')\n",
    "ax.set_xticks([])\n",
    "ax.set_xticklabels([])\n",
    "ax.set_yticks([-50,0,200,400])\n",
    "ax.set_yticklabels([])\n",
    "ax.legend()\n",
    "\n",
    "ax = plt.gca()\n",
    "width = 3\n",
    "ax.spines[\"bottom\"].set_linewidth(width)\n",
    "ax.spines[\"top\"].set_linewidth(width)\n",
    "ax.spines[\"left\"].set_linewidth(width)\n",
    "ax.spines[\"right\"].set_linewidth(width)\n",
    "ax.xaxis.set_tick_params(length=10,  width=width)\n",
    "ax.yaxis.set_tick_params(length=10, width=width)\n",
    "def autolabel(rects, xpos='center'):\n",
    "    \"\"\"\n",
    "    Attach a text label above each bar in *rects*, displaying its height.\n",
    "\n",
    "    *xpos* indicates which side to place the text w.r.t. the center of\n",
    "    the bar. It can be one of the following {'center', 'right', 'left'}.\n",
    "    \"\"\"\n",
    "\n",
    "    ha = {'center': 'center', 'right': 'left', 'left': 'right'}\n",
    "    offset = {'center': 0, 'right': 1, 'left': -1}\n",
    "\n",
    "    for rect in rects:\n",
    "        height = rect.get_height()\n",
    "        ax.annotate('{}'.format(height),\n",
    "                    xy=(rect.get_x() + rect.get_width() / 2, height),\n",
    "                    xytext=(offset[xpos]*3, 3),  # use 3 points offset\n",
    "                    textcoords=\"offset points\",  # in both directions\n",
    "                    ha=ha[xpos], va='bottom')\n",
    "\n",
    "\n",
    "# autolabel(rects1, \"left\")\n",
    "# autolabel(rects2, \"right\")\n",
    "\n",
    "fig.tight_layout()\n",
    "\n",
    "plt.show()"
   ]
  },
  {
   "cell_type": "code",
   "execution_count": 4,
   "metadata": {},
   "outputs": [],
   "source": [
    "import random\n",
    "def reset(percent=.5):\n",
    "    return random.uniform(0,1) < percent"
   ]
  },
  {
   "cell_type": "code",
   "execution_count": 80,
   "metadata": {},
   "outputs": [
    {
     "data": {
      "text/plain": [
       "False"
      ]
     },
     "execution_count": 80,
     "metadata": {},
     "output_type": "execute_result"
    }
   ],
   "source": [
    "reset(.5)"
   ]
  }
 ],
 "metadata": {
  "kernelspec": {
   "display_name": "Python 3",
   "language": "python",
   "name": "python3"
  },
  "language_info": {
   "codemirror_mode": {
    "name": "ipython",
    "version": 3
   },
   "file_extension": ".py",
   "mimetype": "text/x-python",
   "name": "python",
   "nbconvert_exporter": "python",
   "pygments_lexer": "ipython3",
   "version": "3.9.12"
  },
  "orig_nbformat": 4
 },
 "nbformat": 4,
 "nbformat_minor": 2
}
